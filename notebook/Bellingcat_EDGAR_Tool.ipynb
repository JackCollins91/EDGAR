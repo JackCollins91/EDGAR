{
  "cells": [
    {
      "cell_type": "markdown",
      "metadata": {
        "id": "iCBS4YMpURiq"
      },
      "source": [
        "# Bellingcat EDGAR Tool\n",
        "\n",
        "EDGAR is a database of corporate filings maintained by the SEC. These filings contain a wealth of quantitative and qualitative information on every legal entity that issues non-exempt securities in the United States.\n",
        "\n",
        "This tool lets you search the EDGAR database and download the results as a spreadsheet. It was initially developed as part of the Bellingcat Tech Fellowship program, we hope it helps you utilise this incredible, free resource.\n",
        "\n",
        "> <font color='#ffc107'>⚠️Warning:</font> Using both `search_keywords` and only `company_cik` at the same time might not work correctly, we recommend avoiding using both in a search (you can leave `search_keywords` blank and only specify `company_cik`)"
      ]
    },
    {
      "cell_type": "code",
      "execution_count": null,
      "metadata": {
        "id": "g8OW2QMw9qll"
      },
      "outputs": [],
      "source": [
        "# @title Search EDGAR { display-mode: \"form\" }\n",
        "\n",
        "# @markdown ### ⬅️ Click to search the EDGAR filings with the below parameters\n",
        "\n",
        "search_keywords = \"Volcano Safety\" # @param {type:\"string\"}\n",
        "start_date = '2024-01-01' # @param {type:\"date\"}\n",
        "end_date = '2024-12-31' # @param {type:\"date\"}\n",
        "\n",
        "TEXT_SEARCH_FILING_CATEGORIES = [\n",
        "    None,\n",
        "    \"all_except_section_16\",\n",
        "    \"all_annual_quarterly_and_current_reports\",\n",
        "    \"all_section_16\",\n",
        "    \"beneficial_ownership_reports\",\n",
        "    \"exempt_offerings\",\n",
        "    \"registration_statements\",\n",
        "    \"filing_review_correspondence\",\n",
        "    \"sec_orders_and_notices\",\n",
        "    \"proxy_materials\",\n",
        "    \"tender_offers_and_going_private_tx\",\n",
        "    \"trust_indentures\",\n",
        "]\n",
        "\n",
        "filing_type = \"all\" # @param [\"all\", \"all_except_section_16\", \"all_annual_quarterly_and_current_reports\", \"all_section_16\", \"beneficial_ownership_reports\", \"exempt_offerings\", \"registration_statements\", \"filing_review_correspondence\", \"sec_orders_and_notices\", \"proxy_materials\", \"tender_offers_and_going_private_tx\", \"trust_indentures\"]\n",
        "company_cik = \"\" # @param {type:\"string\"}\n",
        "\n",
        "# Handle empty arguments\n",
        "search_keywords = \"\\\"\\\"\" if search_keywords == \"\" else search_keywords\n",
        "filing_type = None if filing_type == \"all\" else filing_type\n",
        "company_cik = None if company_cik == \"\" else company_cik\n",
        "\n",
        "# Load Python dependencies\n",
        "import pandas as pd\n",
        "from datetime import datetime\n",
        "from google.colab import data_table, files\n",
        "from ipywidgets import widgets\n",
        "from IPython.display import display\n",
        "from IPython import get_ipython\n",
        "\n",
        "data_table.enable_dataframe_formatter()\n",
        "\n",
        "# Create the output files\n",
        "output = f\"edgar_search_results_{datetime.now().strftime('%d%m%Y_%H%M%S')}.csv\"\n",
        "logfile = f\"./edgar_log_{datetime.now().strftime('%d%m%Y_%H%M%S')}.log\"\n",
        "\n",
        "# Enable Widgets\n",
        "!jupyter nbextension enable --py widgetsnbextension >> {logfile} 2>&1\n",
        "\n",
        "# Install the EDGAR search tool on the first run\n",
        "![ ! -f \"edgar_tool_installed\" ] && echo -n \"Loading the EDGAR Tool. This takes a while (around 1-2 minutes) but only happens for your first search)...\" && apt-get install firefox >> {logfile} 2>&1 && pip install edgar-tool >> {logfile} 2>&1 && pip install pandas==1.5.3 >> {logfile} 2>&1 && touch edgar_tool_installed && echo \"Loaded.\"\n",
        "\n",
        "# Run the tool with the query\n",
        "!echo -n \"Searching EDGAR...\"\n",
        "!edgar-tool text_search {search_keywords} --start_date {start_date} --end_date {end_date} --filing_type {filing_type} --entity_id {company_cik} --output {output} --browser firefox --min-wait 0.5 --max-wait 1.5 >> {logfile} 2>&1\n",
        "exit_code = get_ipython().__dict__['user_ns']['_exit_code']\n",
        "!echo \"Done.\"\n",
        "\n",
        "# Error handling\n",
        "if exit_code != 0:\n",
        "  print(\"\\x1b[31m Something went wrong with the EDGAR tool. This is commonly because there were no results for your query, check you search and try again.\\x1b[0m\")\n",
        "else:\n",
        "  try:\n",
        "    # Load results\n",
        "    results = pd.read_csv(output)\n",
        "\n",
        "    # Show download button\n",
        "    btn = widgets.Button(description='Download Results')\n",
        "    btn.on_click(lambda x: files.download(output))\n",
        "    display(btn)\n",
        "\n",
        "    # Display the results in a data table\n",
        "    display(results)\n",
        "  except FileNotFoundError as e:\n",
        "    print(\"\\x1b[31m Something went wrong with the EDGAR tool, please get in touch at contact-tech@bellingcat.com and help us improve the tool for everyone. \\x1b[0m\")\n",
        "\n"
      ]
    }
  ],
  "metadata": {
    "colab": {
      "provenance": []
    },
    "kernelspec": {
      "display_name": "Python 3",
      "name": "python3"
    },
    "language_info": {
      "name": "python",
      "version": "3.12.1"
    }
  },
  "nbformat": 4,
  "nbformat_minor": 0
}
